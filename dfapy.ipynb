{
  "nbformat": 4,
  "nbformat_minor": 0,
  "metadata": {
    "colab": {
      "name": "dfapy.ipynb",
      "provenance": [],
      "authorship_tag": "ABX9TyNROS4+Lja+X6E25rCtm0AU",
      "include_colab_link": true
    },
    "kernelspec": {
      "name": "python3",
      "display_name": "Python 3"
    },
    "language_info": {
      "name": "python"
    }
  },
  "cells": [
    {
      "cell_type": "markdown",
      "metadata": {
        "id": "view-in-github",
        "colab_type": "text"
      },
      "source": [
        "<a href=\"https://colab.research.google.com/github/daandrad/qrcode_python/blob/main/dfapy.ipynb\" target=\"_parent\"><img src=\"https://colab.research.google.com/assets/colab-badge.svg\" alt=\"Open In Colab\"/></a>"
      ]
    },
    {
      "cell_type": "code",
      "execution_count": null,
      "metadata": {
        "id": "CVg1ecE2zjF-"
      },
      "outputs": [],
      "source": [
        "Como criar Qrcode"
      ]
    },
    {
      "cell_type": "code",
      "source": [
        "!pip install qrcode"
      ],
      "metadata": {
        "id": "9uX8t2uhzwRY"
      },
      "execution_count": null,
      "outputs": []
    },
    {
      "cell_type": "code",
      "source": [
        "import qrcode\n",
        "img = qrcode.make('https://www.roblox.com/home/')\n",
        "type(img)\n",
        "img.save('qr_code_roblox.png')"
      ],
      "metadata": {
        "id": "UqtdFXb5zsqu"
      },
      "execution_count": null,
      "outputs": []
    },
    {
      "cell_type": "code",
      "source": [
        "pip install python-barcode"
      ],
      "metadata": {
        "id": "TVqtM0Ec0T-_"
      },
      "execution_count": null,
      "outputs": []
    },
    {
      "cell_type": "code",
      "source": [
        "from IPython.core.display import Image\n",
        "# import EAN13\n",
        "from barcode import EAN13\n",
        "\n",
        "# import ImageWriter para gerar imagem\n",
        "from barcode.writer import ImageWriter\n",
        "\n",
        "number = '2004110420071'\n",
        "\n",
        "my_code = EAN13(number, writer=ImageWriter())\n",
        "\n",
        "my_code.save('codigo_de_barras')"
      ],
      "metadata": {
        "colab": {
          "base_uri": "https://localhost:8080/",
          "height": 36
        },
        "id": "Z3YBgIUw0Y_P",
        "outputId": "43474921-19ba-444c-b1f5-ca343127ec3c"
      },
      "execution_count": 4,
      "outputs": [
        {
          "output_type": "execute_result",
          "data": {
            "text/plain": [
              "'codigo_de_barras.png'"
            ],
            "application/vnd.google.colaboratory.intrinsic+json": {
              "type": "string"
            }
          },
          "metadata": {},
          "execution_count": 4
        }
      ]
    },
    {
      "cell_type": "code",
      "source": [
        "pip install googlesearch-python"
      ],
      "metadata": {
        "id": "8I4f1noY0lKR"
      },
      "execution_count": null,
      "outputs": []
    },
    {
      "cell_type": "code",
      "source": [
        "from googlesearch import search\n",
        "for i in search ('bolo de maracujá'):\n",
        "  print(i)"
      ],
      "metadata": {
        "id": "jetTze_n0rOS"
      },
      "execution_count": null,
      "outputs": []
    },
    {
      "cell_type": "code",
      "source": [
        "pip install pytube"
      ],
      "metadata": {
        "id": "4ibmd6Vl00Ho"
      },
      "execution_count": null,
      "outputs": []
    },
    {
      "cell_type": "code",
      "source": [
        "from pytube import YouTube\n",
        "#YouTube('https://youtu.be/2lAe1cqCOXo').streams.get_highest_resolution().download()\n",
        "\n",
        "video = YouTube('https://www.youtube.com/watch?v=xVUkkA-TudM').streams.filter(only_audio=True).first()\n",
        "    \n",
        "out_file = video.download()\n",
        "\n",
        "import os\n",
        "\n",
        "# save the file\n",
        "base, ext = os.path.splitext(out_file)\n",
        "new_file = base + '.mp3'\n",
        "os.rename(out_file, new_file)"
      ],
      "metadata": {
        "id": "eJwfb2-i039o"
      },
      "execution_count": 7,
      "outputs": []
    }
  ]
}